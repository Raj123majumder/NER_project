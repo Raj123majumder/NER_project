{
  "nbformat": 4,
  "nbformat_minor": 0,
  "metadata": {
    "kernelspec": {
      "language": "python",
      "display_name": "Python 3",
      "name": "python3"
    },
    "language_info": {
      "name": "python",
      "version": "3.6.6",
      "mimetype": "text/x-python",
      "codemirror_mode": {
        "name": "ipython",
        "version": 3
      },
      "pygments_lexer": "ipython3",
      "nbconvert_exporter": "python",
      "file_extension": ".py"
    },
    "colab": {
      "name": "NER_CHAR_CRF.ipynb",
      "provenance": [],
      "include_colab_link": true
    },
    "accelerator": "GPU"
  },
  "cells": [
    {
      "cell_type": "markdown",
      "metadata": {
        "id": "view-in-github",
        "colab_type": "text"
      },
      "source": [
        "<a href=\"https://colab.research.google.com/github/Raj123majumder/NER_project/blob/main/NER_CHAR_CRF_training.ipynb\" target=\"_parent\"><img src=\"https://colab.research.google.com/assets/colab-badge.svg\" alt=\"Open In Colab\"/></a>"
      ]
    },
    {
      "cell_type": "code",
      "metadata": {
        "_uuid": "8260b78cf150c8da6e4d8adb8c421a00012ffde2",
        "scrolled": true,
        "execution": {
          "iopub.status.busy": "2021-11-02T14:56:10.864025Z",
          "iopub.execute_input": "2021-11-02T14:56:10.864321Z",
          "iopub.status.idle": "2021-11-02T14:56:11.624826Z",
          "shell.execute_reply.started": "2021-11-02T14:56:10.864267Z",
          "shell.execute_reply": "2021-11-02T14:56:11.624086Z"
        },
        "trusted": true,
        "id": "gp2NMXClvcYt"
      },
      "source": [
        "%tensorflow_version 1.x\n",
        "import pandas as pd\n",
        "import numpy as np\n",
        "\n",
        "data = pd.read_csv(\"/content/ner_dataset.csv\", encoding=\"latin1\")"
      ],
      "execution_count": 2,
      "outputs": []
    },
    {
      "cell_type": "code",
      "metadata": {
        "execution": {
          "iopub.status.busy": "2021-11-02T14:56:13.592249Z",
          "iopub.execute_input": "2021-11-02T14:56:13.592557Z",
          "iopub.status.idle": "2021-11-02T14:56:14.037634Z",
          "shell.execute_reply.started": "2021-11-02T14:56:13.592494Z",
          "shell.execute_reply": "2021-11-02T14:56:14.036924Z"
        },
        "trusted": true,
        "id": "KciiofBJvcYw"
      },
      "source": [
        "data = data.fillna(method=\"ffill\")"
      ],
      "execution_count": 3,
      "outputs": []
    },
    {
      "cell_type": "code",
      "metadata": {
        "execution": {
          "iopub.status.busy": "2021-11-02T14:56:16.112505Z",
          "iopub.execute_input": "2021-11-02T14:56:16.112807Z",
          "iopub.status.idle": "2021-11-02T14:56:16.154770Z",
          "shell.execute_reply.started": "2021-11-02T14:56:16.112754Z",
          "shell.execute_reply": "2021-11-02T14:56:16.154000Z"
        },
        "trusted": true,
        "colab": {
          "base_uri": "https://localhost:8080/",
          "height": 419
        },
        "id": "JDqSp0K4vcYw",
        "outputId": "38c96bfa-a043-435e-ce7c-3dd86fd24fc6"
      },
      "source": [
        "data"
      ],
      "execution_count": 4,
      "outputs": [
        {
          "output_type": "execute_result",
          "data": {
            "text/html": [
              "<div>\n",
              "<style scoped>\n",
              "    .dataframe tbody tr th:only-of-type {\n",
              "        vertical-align: middle;\n",
              "    }\n",
              "\n",
              "    .dataframe tbody tr th {\n",
              "        vertical-align: top;\n",
              "    }\n",
              "\n",
              "    .dataframe thead th {\n",
              "        text-align: right;\n",
              "    }\n",
              "</style>\n",
              "<table border=\"1\" class=\"dataframe\">\n",
              "  <thead>\n",
              "    <tr style=\"text-align: right;\">\n",
              "      <th></th>\n",
              "      <th>Sentence #</th>\n",
              "      <th>Word</th>\n",
              "      <th>POS</th>\n",
              "      <th>Tag</th>\n",
              "    </tr>\n",
              "  </thead>\n",
              "  <tbody>\n",
              "    <tr>\n",
              "      <th>0</th>\n",
              "      <td>Sentence: 1</td>\n",
              "      <td>Thousands</td>\n",
              "      <td>NNS</td>\n",
              "      <td>O</td>\n",
              "    </tr>\n",
              "    <tr>\n",
              "      <th>1</th>\n",
              "      <td>Sentence: 1</td>\n",
              "      <td>of</td>\n",
              "      <td>IN</td>\n",
              "      <td>O</td>\n",
              "    </tr>\n",
              "    <tr>\n",
              "      <th>2</th>\n",
              "      <td>Sentence: 1</td>\n",
              "      <td>demonstrators</td>\n",
              "      <td>NNS</td>\n",
              "      <td>O</td>\n",
              "    </tr>\n",
              "    <tr>\n",
              "      <th>3</th>\n",
              "      <td>Sentence: 1</td>\n",
              "      <td>have</td>\n",
              "      <td>VBP</td>\n",
              "      <td>O</td>\n",
              "    </tr>\n",
              "    <tr>\n",
              "      <th>4</th>\n",
              "      <td>Sentence: 1</td>\n",
              "      <td>marched</td>\n",
              "      <td>VBN</td>\n",
              "      <td>O</td>\n",
              "    </tr>\n",
              "    <tr>\n",
              "      <th>...</th>\n",
              "      <td>...</td>\n",
              "      <td>...</td>\n",
              "      <td>...</td>\n",
              "      <td>...</td>\n",
              "    </tr>\n",
              "    <tr>\n",
              "      <th>1048570</th>\n",
              "      <td>Sentence: 47959</td>\n",
              "      <td>they</td>\n",
              "      <td>PRP</td>\n",
              "      <td>O</td>\n",
              "    </tr>\n",
              "    <tr>\n",
              "      <th>1048571</th>\n",
              "      <td>Sentence: 47959</td>\n",
              "      <td>responded</td>\n",
              "      <td>VBD</td>\n",
              "      <td>O</td>\n",
              "    </tr>\n",
              "    <tr>\n",
              "      <th>1048572</th>\n",
              "      <td>Sentence: 47959</td>\n",
              "      <td>to</td>\n",
              "      <td>TO</td>\n",
              "      <td>O</td>\n",
              "    </tr>\n",
              "    <tr>\n",
              "      <th>1048573</th>\n",
              "      <td>Sentence: 47959</td>\n",
              "      <td>the</td>\n",
              "      <td>DT</td>\n",
              "      <td>O</td>\n",
              "    </tr>\n",
              "    <tr>\n",
              "      <th>1048574</th>\n",
              "      <td>Sentence: 47959</td>\n",
              "      <td>attack</td>\n",
              "      <td>NN</td>\n",
              "      <td>O</td>\n",
              "    </tr>\n",
              "  </tbody>\n",
              "</table>\n",
              "<p>1048575 rows × 4 columns</p>\n",
              "</div>"
            ],
            "text/plain": [
              "              Sentence #           Word  POS Tag\n",
              "0            Sentence: 1      Thousands  NNS   O\n",
              "1            Sentence: 1             of   IN   O\n",
              "2            Sentence: 1  demonstrators  NNS   O\n",
              "3            Sentence: 1           have  VBP   O\n",
              "4            Sentence: 1        marched  VBN   O\n",
              "...                  ...            ...  ...  ..\n",
              "1048570  Sentence: 47959           they  PRP   O\n",
              "1048571  Sentence: 47959      responded  VBD   O\n",
              "1048572  Sentence: 47959             to   TO   O\n",
              "1048573  Sentence: 47959            the   DT   O\n",
              "1048574  Sentence: 47959         attack   NN   O\n",
              "\n",
              "[1048575 rows x 4 columns]"
            ]
          },
          "metadata": {},
          "execution_count": 4
        }
      ]
    },
    {
      "cell_type": "code",
      "metadata": {
        "execution": {
          "iopub.status.busy": "2021-11-02T14:56:22.653106Z",
          "iopub.execute_input": "2021-11-02T14:56:22.653394Z",
          "iopub.status.idle": "2021-11-02T14:56:22.731028Z",
          "shell.execute_reply.started": "2021-11-02T14:56:22.653335Z",
          "shell.execute_reply": "2021-11-02T14:56:22.730268Z"
        },
        "trusted": true,
        "colab": {
          "base_uri": "https://localhost:8080/"
        },
        "id": "6h0U1EudvcYx",
        "outputId": "885a3a7c-a3d9-4fce-ccfe-bd3437128eb1"
      },
      "source": [
        "words = list(set(data[\"Word\"].values))\n",
        "n_words = len(words); n_words"
      ],
      "execution_count": 5,
      "outputs": [
        {
          "output_type": "execute_result",
          "data": {
            "text/plain": [
              "35178"
            ]
          },
          "metadata": {},
          "execution_count": 5
        }
      ]
    },
    {
      "cell_type": "code",
      "metadata": {
        "execution": {
          "iopub.status.busy": "2021-11-02T14:56:26.224596Z",
          "iopub.execute_input": "2021-11-02T14:56:26.224885Z",
          "iopub.status.idle": "2021-11-02T14:56:26.262350Z",
          "shell.execute_reply.started": "2021-11-02T14:56:26.224830Z",
          "shell.execute_reply": "2021-11-02T14:56:26.261625Z"
        },
        "trusted": true,
        "colab": {
          "base_uri": "https://localhost:8080/"
        },
        "id": "aq81NxtUvcYx",
        "outputId": "19df3a75-a28d-438a-b3bf-df2e5b5a57f1"
      },
      "source": [
        "tags = list(set(data[\"Tag\"].values))\n",
        "n_tags = len(tags); n_tags"
      ],
      "execution_count": 6,
      "outputs": [
        {
          "output_type": "execute_result",
          "data": {
            "text/plain": [
              "17"
            ]
          },
          "metadata": {},
          "execution_count": 6
        }
      ]
    },
    {
      "cell_type": "code",
      "metadata": {
        "execution": {
          "iopub.status.busy": "2021-11-02T14:56:28.401190Z",
          "iopub.execute_input": "2021-11-02T14:56:28.401462Z",
          "iopub.status.idle": "2021-11-02T14:56:28.408130Z",
          "shell.execute_reply.started": "2021-11-02T14:56:28.401409Z",
          "shell.execute_reply": "2021-11-02T14:56:28.407047Z"
        },
        "trusted": true,
        "id": "bFXpYSu8vcYx"
      },
      "source": [
        "class get_sentences(object):\n",
        "    \n",
        "    def __init__(self, data):\n",
        "        self.n_sent = 1\n",
        "        self.data = data\n",
        "        self.empty = False\n",
        "        agg_func = lambda s: [(w, p, t) for w, p, t in zip(s[\"Word\"].values.tolist(),\n",
        "                                                           s[\"POS\"].values.tolist(),\n",
        "                                                           s[\"Tag\"].values.tolist())]\n",
        "        self.grouped = self.data.groupby(\"Sentence #\").apply(agg_func)\n",
        "        self.sentences = [s for s in self.grouped]\n",
        "    \n",
        "    def get_next(self):\n",
        "        try:\n",
        "            s = self.grouped[\"Sentence: {}\".format(self.n_sent)]\n",
        "            self.n_sent += 1\n",
        "            return s\n",
        "        except:\n",
        "            return None"
      ],
      "execution_count": 7,
      "outputs": []
    },
    {
      "cell_type": "code",
      "metadata": {
        "execution": {
          "iopub.status.busy": "2021-11-02T14:56:32.084939Z",
          "iopub.execute_input": "2021-11-02T14:56:32.085212Z",
          "iopub.status.idle": "2021-11-02T14:56:38.195952Z",
          "shell.execute_reply.started": "2021-11-02T14:56:32.085160Z",
          "shell.execute_reply": "2021-11-02T14:56:38.195073Z"
        },
        "trusted": true,
        "id": "1Btj5QDOvcYy"
      },
      "source": [
        "getter = get_sentences(data)"
      ],
      "execution_count": 8,
      "outputs": []
    },
    {
      "cell_type": "code",
      "metadata": {
        "execution": {
          "iopub.status.busy": "2021-11-02T14:56:38.197173Z",
          "iopub.execute_input": "2021-11-02T14:56:38.197450Z",
          "iopub.status.idle": "2021-11-02T14:56:38.208537Z",
          "shell.execute_reply.started": "2021-11-02T14:56:38.197403Z",
          "shell.execute_reply": "2021-11-02T14:56:38.207593Z"
        },
        "trusted": true,
        "id": "ToT3AF7GvcYz"
      },
      "source": [
        "sent = getter.get_next()"
      ],
      "execution_count": 9,
      "outputs": []
    },
    {
      "cell_type": "code",
      "metadata": {
        "execution": {
          "iopub.status.busy": "2021-11-02T14:56:38.209657Z",
          "iopub.execute_input": "2021-11-02T14:56:38.210072Z",
          "iopub.status.idle": "2021-11-02T14:56:38.222241Z",
          "shell.execute_reply.started": "2021-11-02T14:56:38.210025Z",
          "shell.execute_reply": "2021-11-02T14:56:38.221259Z"
        },
        "trusted": true,
        "colab": {
          "base_uri": "https://localhost:8080/"
        },
        "id": "SCTfMZrovcYz",
        "outputId": "1ec713c9-3890-4148-abee-96d0081ccc72"
      },
      "source": [
        "print(sent)"
      ],
      "execution_count": 10,
      "outputs": [
        {
          "output_type": "stream",
          "name": "stdout",
          "text": [
            "[('Thousands', 'NNS', 'O'), ('of', 'IN', 'O'), ('demonstrators', 'NNS', 'O'), ('have', 'VBP', 'O'), ('marched', 'VBN', 'O'), ('through', 'IN', 'O'), ('London', 'NNP', 'B-geo'), ('to', 'TO', 'O'), ('protest', 'VB', 'O'), ('the', 'DT', 'O'), ('war', 'NN', 'O'), ('in', 'IN', 'O'), ('Iraq', 'NNP', 'B-geo'), ('and', 'CC', 'O'), ('demand', 'VB', 'O'), ('the', 'DT', 'O'), ('withdrawal', 'NN', 'O'), ('of', 'IN', 'O'), ('British', 'JJ', 'B-gpe'), ('troops', 'NNS', 'O'), ('from', 'IN', 'O'), ('that', 'DT', 'O'), ('country', 'NN', 'O'), ('.', '.', 'O')]\n"
          ]
        }
      ]
    },
    {
      "cell_type": "code",
      "metadata": {
        "execution": {
          "iopub.status.busy": "2021-11-02T14:56:41.764256Z",
          "iopub.execute_input": "2021-11-02T14:56:41.764563Z",
          "iopub.status.idle": "2021-11-02T14:56:41.769075Z",
          "shell.execute_reply.started": "2021-11-02T14:56:41.764502Z",
          "shell.execute_reply": "2021-11-02T14:56:41.768343Z"
        },
        "trusted": true,
        "id": "kxb6eaQMvcY0"
      },
      "source": [
        "sentences = getter.sentences"
      ],
      "execution_count": 11,
      "outputs": []
    },
    {
      "cell_type": "code",
      "metadata": {
        "execution": {
          "iopub.status.busy": "2021-11-02T14:56:43.715500Z",
          "iopub.execute_input": "2021-11-02T14:56:43.715779Z",
          "iopub.status.idle": "2021-11-02T14:56:43.737349Z",
          "shell.execute_reply.started": "2021-11-02T14:56:43.715726Z",
          "shell.execute_reply": "2021-11-02T14:56:43.736704Z"
        },
        "trusted": true,
        "id": "KVan9O9kvcY0"
      },
      "source": [
        "max_len = 75\n",
        "max_len_char = 10\n",
        "word2idx = {w: i + 2 for i, w in enumerate(words)}\n",
        "word2idx[\"UNK\"] = 1\n",
        "word2idx[\"PAD\"] = 0\n",
        "idx2word = {i: w for w, i in word2idx.items()}\n",
        "tag2idx = {t: i + 1 for i, t in enumerate(tags)}\n",
        "tag2idx[\"PAD\"] = 0\n",
        "idx2tag = {i: w for w, i in tag2idx.items()}"
      ],
      "execution_count": 12,
      "outputs": []
    },
    {
      "cell_type": "code",
      "metadata": {
        "execution": {
          "iopub.status.busy": "2021-11-02T14:56:48.249603Z",
          "iopub.execute_input": "2021-11-02T14:56:48.249913Z",
          "iopub.status.idle": "2021-11-02T14:56:48.256614Z",
          "shell.execute_reply.started": "2021-11-02T14:56:48.249857Z",
          "shell.execute_reply": "2021-11-02T14:56:48.255591Z"
        },
        "trusted": true,
        "colab": {
          "base_uri": "https://localhost:8080/"
        },
        "id": "owPr1A-OvcY0",
        "outputId": "3ae741e5-a87e-434b-cf7c-f3a22b09da15"
      },
      "source": [
        "print(word2idx[\"Obama\"])\n",
        "print(tag2idx[\"B-geo\"])"
      ],
      "execution_count": 13,
      "outputs": [
        {
          "output_type": "stream",
          "name": "stdout",
          "text": [
            "5149\n",
            "7\n"
          ]
        }
      ]
    },
    {
      "cell_type": "code",
      "metadata": {
        "execution": {
          "iopub.status.busy": "2021-11-02T14:56:51.233152Z",
          "iopub.execute_input": "2021-11-02T14:56:51.233428Z",
          "iopub.status.idle": "2021-11-02T14:57:28.218135Z",
          "shell.execute_reply.started": "2021-11-02T14:56:51.233380Z",
          "shell.execute_reply": "2021-11-02T14:57:28.217111Z"
        },
        "trusted": true,
        "colab": {
          "base_uri": "https://localhost:8080/"
        },
        "id": "oyEIS_U_vcY1",
        "outputId": "02121357-1dc5-40a2-fa59-01a87bd9803f"
      },
      "source": [
        "from keras.preprocessing.sequence import pad_sequences\n",
        "X_word = [[word2idx[w[0]] for w in s] for s in sentences]\n",
        "X_word = pad_sequences(maxlen=max_len, sequences=X_word, value=word2idx[\"PAD\"], padding='post', truncating='post')\n",
        "chars = set([w_i for w in words for w_i in w])\n",
        "n_chars = len(chars)\n",
        "print(n_chars)\n",
        "char2idx = {c: i + 2 for i, c in enumerate(chars)}\n",
        "char2idx[\"UNK\"] = 1\n",
        "char2idx[\"PAD\"] = 0\n",
        "X_char = []\n",
        "for sentence in sentences:\n",
        "    sent_seq = []\n",
        "    for i in range(max_len):\n",
        "        word_seq = []\n",
        "        for j in range(max_len_char):\n",
        "            try:\n",
        "                if(sentence[i][0][j] in char2idx):\n",
        "                    word_seq.append(char2idx.get(sentence[i][0][j]))\n",
        "                else:\n",
        "                    word_seq.append(char2idx.get(\"UNK\"))\n",
        "            except:\n",
        "                word_seq.append(char2idx.get(\"PAD\"))\n",
        "        sent_seq.append(word_seq)\n",
        "    X_char.append(np.array(sent_seq))\n",
        "y = [[tag2idx[w[2]] for w in s] for s in sentences]\n",
        "y = pad_sequences(maxlen=max_len, sequences=y, value=tag2idx[\"PAD\"], padding='post', truncating='post')\n",
        "from keras.utils import to_categorical\n",
        "y = [to_categorical(i, num_classes=n_tags + 1) for i in y]\n",
        "\n",
        "from sklearn.model_selection import train_test_split\n",
        "X_word_tr, X_word_te, y_tr, y_te = train_test_split(X_word, y, test_size=0.1, random_state=2018)\n",
        "X_char_tr, X_char_te, _, _ = train_test_split(X_char, y, test_size=0.1, random_state=2018)"
      ],
      "execution_count": 14,
      "outputs": [
        {
          "output_type": "stream",
          "name": "stderr",
          "text": [
            "Using TensorFlow backend.\n"
          ]
        },
        {
          "output_type": "stream",
          "name": "stdout",
          "text": [
            "98\n"
          ]
        }
      ]
    },
    {
      "cell_type": "code",
      "metadata": {
        "execution": {
          "iopub.status.busy": "2021-11-02T14:57:28.224390Z",
          "iopub.execute_input": "2021-11-02T14:57:28.224994Z",
          "iopub.status.idle": "2021-11-02T14:57:28.232215Z",
          "shell.execute_reply.started": "2021-11-02T14:57:28.224940Z",
          "shell.execute_reply": "2021-11-02T14:57:28.231376Z"
        },
        "trusted": true,
        "colab": {
          "base_uri": "https://localhost:8080/"
        },
        "id": "CDCqrbVbvcY1",
        "outputId": "af152c5f-83d2-42c2-926c-c7551fec78ea"
      },
      "source": [
        "X_word_tr.shape, X_word_te.shape"
      ],
      "execution_count": 15,
      "outputs": [
        {
          "output_type": "execute_result",
          "data": {
            "text/plain": [
              "((43163, 75), (4796, 75))"
            ]
          },
          "metadata": {},
          "execution_count": 15
        }
      ]
    },
    {
      "cell_type": "code",
      "metadata": {
        "execution": {
          "iopub.status.busy": "2021-10-30T10:54:17.677448Z",
          "iopub.execute_input": "2021-10-30T10:54:17.677732Z",
          "iopub.status.idle": "2021-10-30T10:54:17.685831Z",
          "shell.execute_reply.started": "2021-10-30T10:54:17.677686Z",
          "shell.execute_reply": "2021-10-30T10:54:17.685124Z"
        },
        "trusted": true,
        "colab": {
          "base_uri": "https://localhost:8080/"
        },
        "id": "CsnpRVxyvcY2",
        "outputId": "b54c9f35-3bac-406d-b320-d84f7c3fa9df"
      },
      "source": [
        "len(X_char_tr), len(X_char_te[7][1])"
      ],
      "execution_count": 16,
      "outputs": [
        {
          "output_type": "execute_result",
          "data": {
            "text/plain": [
              "(43163, 10)"
            ]
          },
          "metadata": {},
          "execution_count": 16
        }
      ]
    },
    {
      "cell_type": "code",
      "metadata": {
        "execution": {
          "iopub.status.busy": "2021-11-02T14:57:28.234141Z",
          "iopub.execute_input": "2021-11-02T14:57:28.235484Z",
          "iopub.status.idle": "2021-11-02T14:57:28.245462Z",
          "shell.execute_reply.started": "2021-11-02T14:57:28.235392Z",
          "shell.execute_reply": "2021-11-02T14:57:28.244649Z"
        },
        "trusted": true,
        "colab": {
          "base_uri": "https://localhost:8080/"
        },
        "id": "g-XvlUMjvcY2",
        "outputId": "bfc4e9a2-af29-45c9-91f7-67af3711c495"
      },
      "source": [
        "X_word_tr[1]"
      ],
      "execution_count": 17,
      "outputs": [
        {
          "output_type": "execute_result",
          "data": {
            "text/plain": [
              "array([34117, 20327, 12375, 29256, 23225, 14439,  3012, 10497, 24247,\n",
              "        9165,     0,     0,     0,     0,     0,     0,     0,     0,\n",
              "           0,     0,     0,     0,     0,     0,     0,     0,     0,\n",
              "           0,     0,     0,     0,     0,     0,     0,     0,     0,\n",
              "           0,     0,     0,     0,     0,     0,     0,     0,     0,\n",
              "           0,     0,     0,     0,     0,     0,     0,     0,     0,\n",
              "           0,     0,     0,     0,     0,     0,     0,     0,     0,\n",
              "           0,     0,     0,     0,     0,     0,     0,     0,     0,\n",
              "           0,     0,     0], dtype=int32)"
            ]
          },
          "metadata": {},
          "execution_count": 17
        }
      ]
    },
    {
      "cell_type": "code",
      "metadata": {
        "execution": {
          "iopub.status.busy": "2021-11-02T14:57:28.246717Z",
          "iopub.execute_input": "2021-11-02T14:57:28.247148Z",
          "iopub.status.idle": "2021-11-02T14:57:28.264897Z",
          "shell.execute_reply.started": "2021-11-02T14:57:28.247105Z",
          "shell.execute_reply": "2021-11-02T14:57:28.264235Z"
        },
        "trusted": true,
        "colab": {
          "base_uri": "https://localhost:8080/"
        },
        "id": "ZSTNsJbnvcY2",
        "outputId": "e23d4fb6-7d39-4eeb-c79e-806c77932cca"
      },
      "source": [
        "X_char_tr[1]"
      ],
      "execution_count": 18,
      "outputs": [
        {
          "output_type": "execute_result",
          "data": {
            "text/plain": [
              "array([[60, 51, 72, 85, 85,  0,  0,  0,  0,  0],\n",
              "       [10,  9, 40, 83,  0,  0,  0,  0,  0,  0],\n",
              "       [10, 96, 19, 72,  0,  0,  0,  0,  0,  0],\n",
              "       [96, 48,  0,  0,  0,  0,  0,  0,  0,  0],\n",
              "       [40, 56, 10,  0,  0,  0,  0,  0,  0,  0],\n",
              "       [45, 96, 15, 62, 72, 15, 10,  0,  0,  0],\n",
              "       [51,  9, 83,  0,  0,  0,  0,  0,  0,  0],\n",
              "       [90, 72, 72, 89,  0,  0,  0,  0,  0,  0],\n",
              "       [40, 89, 97, 68, 15, 72, 83,  0,  0,  0],\n",
              "       [66,  0,  0,  0,  0,  0,  0,  0,  0,  0],\n",
              "       [ 0,  0,  0,  0,  0,  0,  0,  0,  0,  0],\n",
              "       [ 0,  0,  0,  0,  0,  0,  0,  0,  0,  0],\n",
              "       [ 0,  0,  0,  0,  0,  0,  0,  0,  0,  0],\n",
              "       [ 0,  0,  0,  0,  0,  0,  0,  0,  0,  0],\n",
              "       [ 0,  0,  0,  0,  0,  0,  0,  0,  0,  0],\n",
              "       [ 0,  0,  0,  0,  0,  0,  0,  0,  0,  0],\n",
              "       [ 0,  0,  0,  0,  0,  0,  0,  0,  0,  0],\n",
              "       [ 0,  0,  0,  0,  0,  0,  0,  0,  0,  0],\n",
              "       [ 0,  0,  0,  0,  0,  0,  0,  0,  0,  0],\n",
              "       [ 0,  0,  0,  0,  0,  0,  0,  0,  0,  0],\n",
              "       [ 0,  0,  0,  0,  0,  0,  0,  0,  0,  0],\n",
              "       [ 0,  0,  0,  0,  0,  0,  0,  0,  0,  0],\n",
              "       [ 0,  0,  0,  0,  0,  0,  0,  0,  0,  0],\n",
              "       [ 0,  0,  0,  0,  0,  0,  0,  0,  0,  0],\n",
              "       [ 0,  0,  0,  0,  0,  0,  0,  0,  0,  0],\n",
              "       [ 0,  0,  0,  0,  0,  0,  0,  0,  0,  0],\n",
              "       [ 0,  0,  0,  0,  0,  0,  0,  0,  0,  0],\n",
              "       [ 0,  0,  0,  0,  0,  0,  0,  0,  0,  0],\n",
              "       [ 0,  0,  0,  0,  0,  0,  0,  0,  0,  0],\n",
              "       [ 0,  0,  0,  0,  0,  0,  0,  0,  0,  0],\n",
              "       [ 0,  0,  0,  0,  0,  0,  0,  0,  0,  0],\n",
              "       [ 0,  0,  0,  0,  0,  0,  0,  0,  0,  0],\n",
              "       [ 0,  0,  0,  0,  0,  0,  0,  0,  0,  0],\n",
              "       [ 0,  0,  0,  0,  0,  0,  0,  0,  0,  0],\n",
              "       [ 0,  0,  0,  0,  0,  0,  0,  0,  0,  0],\n",
              "       [ 0,  0,  0,  0,  0,  0,  0,  0,  0,  0],\n",
              "       [ 0,  0,  0,  0,  0,  0,  0,  0,  0,  0],\n",
              "       [ 0,  0,  0,  0,  0,  0,  0,  0,  0,  0],\n",
              "       [ 0,  0,  0,  0,  0,  0,  0,  0,  0,  0],\n",
              "       [ 0,  0,  0,  0,  0,  0,  0,  0,  0,  0],\n",
              "       [ 0,  0,  0,  0,  0,  0,  0,  0,  0,  0],\n",
              "       [ 0,  0,  0,  0,  0,  0,  0,  0,  0,  0],\n",
              "       [ 0,  0,  0,  0,  0,  0,  0,  0,  0,  0],\n",
              "       [ 0,  0,  0,  0,  0,  0,  0,  0,  0,  0],\n",
              "       [ 0,  0,  0,  0,  0,  0,  0,  0,  0,  0],\n",
              "       [ 0,  0,  0,  0,  0,  0,  0,  0,  0,  0],\n",
              "       [ 0,  0,  0,  0,  0,  0,  0,  0,  0,  0],\n",
              "       [ 0,  0,  0,  0,  0,  0,  0,  0,  0,  0],\n",
              "       [ 0,  0,  0,  0,  0,  0,  0,  0,  0,  0],\n",
              "       [ 0,  0,  0,  0,  0,  0,  0,  0,  0,  0],\n",
              "       [ 0,  0,  0,  0,  0,  0,  0,  0,  0,  0],\n",
              "       [ 0,  0,  0,  0,  0,  0,  0,  0,  0,  0],\n",
              "       [ 0,  0,  0,  0,  0,  0,  0,  0,  0,  0],\n",
              "       [ 0,  0,  0,  0,  0,  0,  0,  0,  0,  0],\n",
              "       [ 0,  0,  0,  0,  0,  0,  0,  0,  0,  0],\n",
              "       [ 0,  0,  0,  0,  0,  0,  0,  0,  0,  0],\n",
              "       [ 0,  0,  0,  0,  0,  0,  0,  0,  0,  0],\n",
              "       [ 0,  0,  0,  0,  0,  0,  0,  0,  0,  0],\n",
              "       [ 0,  0,  0,  0,  0,  0,  0,  0,  0,  0],\n",
              "       [ 0,  0,  0,  0,  0,  0,  0,  0,  0,  0],\n",
              "       [ 0,  0,  0,  0,  0,  0,  0,  0,  0,  0],\n",
              "       [ 0,  0,  0,  0,  0,  0,  0,  0,  0,  0],\n",
              "       [ 0,  0,  0,  0,  0,  0,  0,  0,  0,  0],\n",
              "       [ 0,  0,  0,  0,  0,  0,  0,  0,  0,  0],\n",
              "       [ 0,  0,  0,  0,  0,  0,  0,  0,  0,  0],\n",
              "       [ 0,  0,  0,  0,  0,  0,  0,  0,  0,  0],\n",
              "       [ 0,  0,  0,  0,  0,  0,  0,  0,  0,  0],\n",
              "       [ 0,  0,  0,  0,  0,  0,  0,  0,  0,  0],\n",
              "       [ 0,  0,  0,  0,  0,  0,  0,  0,  0,  0],\n",
              "       [ 0,  0,  0,  0,  0,  0,  0,  0,  0,  0],\n",
              "       [ 0,  0,  0,  0,  0,  0,  0,  0,  0,  0],\n",
              "       [ 0,  0,  0,  0,  0,  0,  0,  0,  0,  0],\n",
              "       [ 0,  0,  0,  0,  0,  0,  0,  0,  0,  0],\n",
              "       [ 0,  0,  0,  0,  0,  0,  0,  0,  0,  0],\n",
              "       [ 0,  0,  0,  0,  0,  0,  0,  0,  0,  0]])"
            ]
          },
          "metadata": {},
          "execution_count": 18
        }
      ]
    },
    {
      "cell_type": "code",
      "metadata": {
        "execution": {
          "iopub.status.busy": "2021-11-02T14:58:03.602932Z",
          "iopub.execute_input": "2021-11-02T14:58:03.603233Z",
          "iopub.status.idle": "2021-11-02T14:58:03.607820Z",
          "shell.execute_reply.started": "2021-11-02T14:58:03.603178Z",
          "shell.execute_reply": "2021-11-02T14:58:03.606667Z"
        },
        "trusted": true,
        "colab": {
          "base_uri": "https://localhost:8080/"
        },
        "id": "20kAqrIbvcY2",
        "outputId": "dda26029-c94d-4c7f-c88e-7a2e351ce511"
      },
      "source": [
        "print(n_words,n_chars,n_tags)"
      ],
      "execution_count": 19,
      "outputs": [
        {
          "output_type": "stream",
          "name": "stdout",
          "text": [
            "35178 98 17\n"
          ]
        }
      ]
    },
    {
      "cell_type": "code",
      "metadata": {
        "execution": {
          "iopub.status.busy": "2021-11-02T14:58:04.793070Z",
          "iopub.execute_input": "2021-11-02T14:58:04.793418Z",
          "iopub.status.idle": "2021-11-02T14:58:04.803148Z",
          "shell.execute_reply.started": "2021-11-02T14:58:04.793368Z",
          "shell.execute_reply": "2021-11-02T14:58:04.802393Z"
        },
        "trusted": true,
        "colab": {
          "base_uri": "https://localhost:8080/"
        },
        "id": "-gOAeKG_vcY2",
        "outputId": "ae443d81-c22a-4a0c-cf71-70749a51b2f9"
      },
      "source": [
        "X_word_tr.shape"
      ],
      "execution_count": 20,
      "outputs": [
        {
          "output_type": "execute_result",
          "data": {
            "text/plain": [
              "(43163, 75)"
            ]
          },
          "metadata": {},
          "execution_count": 20
        }
      ]
    },
    {
      "cell_type": "code",
      "metadata": {
        "execution": {
          "iopub.status.busy": "2021-11-02T14:58:06.809321Z",
          "iopub.execute_input": "2021-11-02T14:58:06.809618Z",
          "iopub.status.idle": "2021-11-02T14:58:07.036355Z",
          "shell.execute_reply.started": "2021-11-02T14:58:06.809562Z",
          "shell.execute_reply": "2021-11-02T14:58:07.035620Z"
        },
        "trusted": true,
        "colab": {
          "base_uri": "https://localhost:8080/"
        },
        "id": "jO2A8oq1vcY2",
        "outputId": "5987a467-6075-430a-b321-24bc9ffc8048"
      },
      "source": [
        "np.array(X_char_tr).reshape((len(X_char_tr), max_len, max_len_char)).shape"
      ],
      "execution_count": 21,
      "outputs": [
        {
          "output_type": "execute_result",
          "data": {
            "text/plain": [
              "(43163, 75, 10)"
            ]
          },
          "metadata": {},
          "execution_count": 21
        }
      ]
    },
    {
      "cell_type": "code",
      "metadata": {
        "execution": {
          "iopub.status.busy": "2021-11-02T14:58:21.034635Z",
          "iopub.execute_input": "2021-11-02T14:58:21.034937Z",
          "iopub.status.idle": "2021-11-02T14:58:30.964871Z",
          "shell.execute_reply.started": "2021-11-02T14:58:21.034879Z",
          "shell.execute_reply": "2021-11-02T14:58:30.964102Z"
        },
        "trusted": true,
        "colab": {
          "base_uri": "https://localhost:8080/"
        },
        "id": "tfSgiNIlvcY3",
        "outputId": "8e509f87-4a8a-4652-aa7a-3a8ecb4666d8"
      },
      "source": [
        "!pip install git+https://www.github.com/keras-team/keras-contrib.git\n",
        "from keras_contrib.layers import CRF"
      ],
      "execution_count": 22,
      "outputs": [
        {
          "output_type": "stream",
          "name": "stdout",
          "text": [
            "Collecting git+https://www.github.com/keras-team/keras-contrib.git\n",
            "  Cloning https://www.github.com/keras-team/keras-contrib.git to /tmp/pip-req-build-ti2kgc3a\n",
            "  Running command git clone -q https://www.github.com/keras-team/keras-contrib.git /tmp/pip-req-build-ti2kgc3a\n",
            "Requirement already satisfied: keras in /tensorflow-1.15.2/python3.7 (from keras-contrib==2.0.8) (2.3.1)\n",
            "Requirement already satisfied: scipy>=0.14 in /usr/local/lib/python3.7/dist-packages (from keras->keras-contrib==2.0.8) (1.4.1)\n",
            "Requirement already satisfied: keras-applications>=1.0.6 in /tensorflow-1.15.2/python3.7 (from keras->keras-contrib==2.0.8) (1.0.8)\n",
            "Requirement already satisfied: numpy>=1.9.1 in /usr/local/lib/python3.7/dist-packages (from keras->keras-contrib==2.0.8) (1.19.5)\n",
            "Requirement already satisfied: h5py in /usr/local/lib/python3.7/dist-packages (from keras->keras-contrib==2.0.8) (3.1.0)\n",
            "Requirement already satisfied: six>=1.9.0 in /usr/local/lib/python3.7/dist-packages (from keras->keras-contrib==2.0.8) (1.15.0)\n",
            "Requirement already satisfied: pyyaml in /usr/local/lib/python3.7/dist-packages (from keras->keras-contrib==2.0.8) (3.13)\n",
            "Requirement already satisfied: keras-preprocessing>=1.0.5 in /usr/local/lib/python3.7/dist-packages (from keras->keras-contrib==2.0.8) (1.1.2)\n",
            "Requirement already satisfied: cached-property in /usr/local/lib/python3.7/dist-packages (from h5py->keras->keras-contrib==2.0.8) (1.5.2)\n",
            "Building wheels for collected packages: keras-contrib\n",
            "  Building wheel for keras-contrib (setup.py) ... \u001b[?25l\u001b[?25hdone\n",
            "  Created wheel for keras-contrib: filename=keras_contrib-2.0.8-py3-none-any.whl size=101077 sha256=edaa85bc8adaac982e4a33d25b83508863f150f5994d4a5b0827d39789ca392d\n",
            "  Stored in directory: /tmp/pip-ephem-wheel-cache-xxsn53r2/wheels/bb/1f/f2/b57495012683b6b20bbae94a3915ec79753111452d79886abc\n",
            "Successfully built keras-contrib\n",
            "Installing collected packages: keras-contrib\n",
            "Successfully installed keras-contrib-2.0.8\n"
          ]
        }
      ]
    },
    {
      "cell_type": "code",
      "metadata": {
        "execution": {
          "iopub.status.busy": "2021-11-02T15:28:45.088610Z",
          "iopub.execute_input": "2021-11-02T15:28:45.088895Z",
          "iopub.status.idle": "2021-11-02T15:28:47.022638Z",
          "shell.execute_reply.started": "2021-11-02T15:28:45.088846Z",
          "shell.execute_reply": "2021-11-02T15:28:47.021972Z"
        },
        "trusted": true,
        "colab": {
          "base_uri": "https://localhost:8080/"
        },
        "id": "DQ-QAUwwvcY3",
        "outputId": "999fc439-9aaa-4578-f163-bb38a9760e16"
      },
      "source": [
        "from keras.models import Model, Input\n",
        "from keras.layers import LSTM, Embedding, Dense, TimeDistributed, Dropout, Conv1D\n",
        "from keras.layers import Bidirectional, concatenate, SpatialDropout1D, GlobalMaxPooling1D\n",
        "# input and embedding for words\n",
        "word_in = Input(shape=(max_len,),name='word_input_')\n",
        "emb_word = Embedding(input_dim=n_words + 2, output_dim=20,\n",
        "                     input_length=max_len, mask_zero=False)(word_in)\n",
        "\n",
        "# input and embeddings for characters\n",
        "char_in = Input(shape=(max_len, max_len_char,),name='char_input')\n",
        "emb_char = TimeDistributed(Embedding(input_dim=n_chars + 2, output_dim=10,\n",
        "                           input_length=max_len_char, mask_zero=False))(char_in)\n",
        "# character LSTM to get word encodings by characters\n",
        "char_enc = TimeDistributed(Bidirectional(LSTM(units=20, return_sequences=False,\n",
        "                                recurrent_dropout=0.5)))(emb_char)\n",
        "\n",
        "# main LSTM\n",
        "x = concatenate([emb_word, char_enc])\n",
        "x = SpatialDropout1D(0.3)(x)\n",
        "lstm = LSTM(units=50, return_sequences=True,\n",
        "                               recurrent_dropout=0.6)(x)\n",
        "out = TimeDistributed(Dense(50, activation=\"relu\"))(lstm)\n",
        "\n",
        "crf = CRF(n_tags + 1)  # CRF layer\n",
        "out = crf(out)\n",
        "\n",
        "model = Model([word_in, char_in], out)\n",
        "model.compile(optimizer=\"adam\", loss=crf.loss_function, metrics=[crf.accuracy])\n",
        "model.summary()"
      ],
      "execution_count": 30,
      "outputs": [
        {
          "output_type": "stream",
          "name": "stderr",
          "text": [
            "/usr/local/lib/python3.7/dist-packages/keras_contrib/layers/crf.py:346: UserWarning: CRF.loss_function is deprecated and it might be removed in the future. Please use losses.crf_loss instead.\n",
            "  warnings.warn('CRF.loss_function is deprecated '\n",
            "/usr/local/lib/python3.7/dist-packages/keras_contrib/layers/crf.py:353: UserWarning: CRF.accuracy is deprecated and it might be removed in the future. Please use metrics.crf_accuracy\n",
            "  warnings.warn('CRF.accuracy is deprecated and it '\n"
          ]
        },
        {
          "output_type": "stream",
          "name": "stdout",
          "text": [
            "Model: \"model_2\"\n",
            "__________________________________________________________________________________________________\n",
            "Layer (type)                    Output Shape         Param #     Connected to                     \n",
            "==================================================================================================\n",
            "char_input (InputLayer)         (None, 75, 10)       0                                            \n",
            "__________________________________________________________________________________________________\n",
            "word_input_ (InputLayer)        (None, 75)           0                                            \n",
            "__________________________________________________________________________________________________\n",
            "time_distributed_7 (TimeDistrib (None, 75, 10, 10)   1000        char_input[0][0]                 \n",
            "__________________________________________________________________________________________________\n",
            "embedding_5 (Embedding)         (None, 75, 20)       703600      word_input_[0][0]                \n",
            "__________________________________________________________________________________________________\n",
            "time_distributed_8 (TimeDistrib (None, 75, 40)       4960        time_distributed_7[0][0]         \n",
            "__________________________________________________________________________________________________\n",
            "concatenate_3 (Concatenate)     (None, 75, 60)       0           embedding_5[0][0]                \n",
            "                                                                 time_distributed_8[0][0]         \n",
            "__________________________________________________________________________________________________\n",
            "spatial_dropout1d_3 (SpatialDro (None, 75, 60)       0           concatenate_3[0][0]              \n",
            "__________________________________________________________________________________________________\n",
            "lstm_6 (LSTM)                   (None, 75, 50)       22200       spatial_dropout1d_3[0][0]        \n",
            "__________________________________________________________________________________________________\n",
            "time_distributed_9 (TimeDistrib (None, 75, 50)       2550        lstm_6[0][0]                     \n",
            "__________________________________________________________________________________________________\n",
            "crf_3 (CRF)                     (None, 75, 18)       1278        time_distributed_9[0][0]         \n",
            "==================================================================================================\n",
            "Total params: 735,588\n",
            "Trainable params: 735,588\n",
            "Non-trainable params: 0\n",
            "__________________________________________________________________________________________________\n"
          ]
        }
      ]
    },
    {
      "cell_type": "code",
      "metadata": {
        "execution": {
          "iopub.status.busy": "2021-11-02T14:58:44.764225Z",
          "iopub.execute_input": "2021-11-02T14:58:44.764540Z",
          "iopub.status.idle": "2021-11-02T14:58:44.770501Z",
          "shell.execute_reply.started": "2021-11-02T14:58:44.764456Z",
          "shell.execute_reply": "2021-11-02T14:58:44.769463Z"
        },
        "trusted": true,
        "colab": {
          "base_uri": "https://localhost:8080/"
        },
        "id": "FSulLGIhvcY3",
        "outputId": "09106a69-d001-48c4-84d6-b657289cb28c"
      },
      "source": [
        "print(model.layers[9].weights)"
      ],
      "execution_count": 31,
      "outputs": [
        {
          "output_type": "stream",
          "name": "stdout",
          "text": [
            "[<tf.Variable 'crf_3/kernel:0' shape=(50, 18) dtype=float32>, <tf.Variable 'crf_3/chain_kernel:0' shape=(18, 18) dtype=float32>, <tf.Variable 'crf_3/bias:0' shape=(18,) dtype=float32>, <tf.Variable 'crf_3/left_boundary:0' shape=(18,) dtype=float32>, <tf.Variable 'crf_3/right_boundary:0' shape=(18,) dtype=float32>]\n"
          ]
        }
      ]
    },
    {
      "cell_type": "code",
      "metadata": {
        "execution": {
          "iopub.status.busy": "2021-11-02T14:58:48.826909Z",
          "iopub.execute_input": "2021-11-02T14:58:48.827247Z",
          "iopub.status.idle": "2021-11-02T14:58:49.067536Z",
          "shell.execute_reply.started": "2021-11-02T14:58:48.827200Z",
          "shell.execute_reply": "2021-11-02T14:58:49.066620Z"
        },
        "trusted": true,
        "colab": {
          "base_uri": "https://localhost:8080/"
        },
        "id": "3hH2i6-yvcY3",
        "outputId": "f5b314aa-ab83-4bb6-b042-724225ebf5cd"
      },
      "source": [
        "np.array(y_tr).shape"
      ],
      "execution_count": 32,
      "outputs": [
        {
          "output_type": "execute_result",
          "data": {
            "text/plain": [
              "(43163, 75, 18)"
            ]
          },
          "metadata": {},
          "execution_count": 32
        }
      ]
    },
    {
      "cell_type": "code",
      "metadata": {
        "execution": {
          "iopub.status.busy": "2021-11-02T15:28:53.627590Z",
          "iopub.execute_input": "2021-11-02T15:28:53.627872Z",
          "iopub.status.idle": "2021-11-02T16:34:36.810689Z",
          "shell.execute_reply.started": "2021-11-02T15:28:53.627819Z",
          "shell.execute_reply": "2021-11-02T16:34:36.810000Z"
        },
        "trusted": true,
        "colab": {
          "base_uri": "https://localhost:8080/"
        },
        "id": "rzBoWzUpvcY3",
        "outputId": "de490fc1-fde7-4d6e-9c3f-058173231635"
      },
      "source": [
        "history = model.fit([X_word_tr,\n",
        "                     np.array(X_char_tr).reshape((len(X_char_tr), max_len, max_len_char))],\n",
        "                    np.array(y_tr),\n",
        "                    batch_size=32, epochs=4, validation_split=0.1, verbose=1)\n",
        "hist = pd.DataFrame(history.history)"
      ],
      "execution_count": 33,
      "outputs": [
        {
          "output_type": "stream",
          "name": "stdout",
          "text": [
            "Train on 38846 samples, validate on 4317 samples\n",
            "Epoch 1/4\n",
            "38846/38846 [==============================] - 328s 8ms/step - loss: 0.1841 - crf_viterbi_accuracy: 0.9469 - val_loss: 0.0465 - val_crf_viterbi_accuracy: 0.9859\n",
            "Epoch 2/4\n",
            "38846/38846 [==============================] - 332s 9ms/step - loss: 0.0368 - crf_viterbi_accuracy: 0.9879 - val_loss: 0.0287 - val_crf_viterbi_accuracy: 0.9888\n",
            "Epoch 3/4\n",
            "38846/38846 [==============================] - 331s 9ms/step - loss: 0.0212 - crf_viterbi_accuracy: 0.9901 - val_loss: 0.0163 - val_crf_viterbi_accuracy: 0.9895\n",
            "Epoch 4/4\n",
            "38846/38846 [==============================] - 331s 9ms/step - loss: 0.0065 - crf_viterbi_accuracy: 0.9911 - val_loss: 0.0017 - val_crf_viterbi_accuracy: 0.9902\n"
          ]
        }
      ]
    },
    {
      "cell_type": "code",
      "metadata": {
        "execution": {
          "iopub.status.busy": "2021-11-02T16:34:59.561973Z",
          "iopub.execute_input": "2021-11-02T16:34:59.562436Z",
          "iopub.status.idle": "2021-11-02T16:34:59.568966Z",
          "shell.execute_reply.started": "2021-11-02T16:34:59.562323Z",
          "shell.execute_reply": "2021-11-02T16:34:59.568272Z"
        },
        "trusted": true,
        "colab": {
          "base_uri": "https://localhost:8080/"
        },
        "id": "r_Wcl6a8vcY3",
        "outputId": "c863b032-f688-4b3b-9ea9-73889ecc132d"
      },
      "source": [
        "hist.columns"
      ],
      "execution_count": 36,
      "outputs": [
        {
          "output_type": "execute_result",
          "data": {
            "text/plain": [
              "Index(['val_loss', 'val_crf_viterbi_accuracy', 'loss', 'crf_viterbi_accuracy'], dtype='object')"
            ]
          },
          "metadata": {},
          "execution_count": 36
        }
      ]
    },
    {
      "cell_type": "code",
      "metadata": {
        "execution": {
          "iopub.status.busy": "2021-11-02T16:45:00.616314Z",
          "iopub.execute_input": "2021-11-02T16:45:00.616611Z",
          "iopub.status.idle": "2021-11-02T16:45:00.964916Z",
          "shell.execute_reply.started": "2021-11-02T16:45:00.616558Z",
          "shell.execute_reply": "2021-11-02T16:45:00.964125Z"
        },
        "trusted": true,
        "colab": {
          "base_uri": "https://localhost:8080/",
          "height": 592
        },
        "id": "y1KVMSE5vcY3",
        "outputId": "8f4ff7ef-45e1-47bf-ff42-620372467fb0"
      },
      "source": [
        "import matplotlib.pyplot as plt\n",
        "plt.style.use(\"ggplot\")\n",
        "plt.figure(figsize=(10, 10))\n",
        "plt.plot(hist[\"crf_viterbi_accuracy\"])\n",
        "plt.plot(hist[\"val_crf_viterbi_accuracy\"])\n",
        "plt.legend(['crf_viterbi_accuracy','val_crf_viterbi_accuracy'])\n",
        "plt.show()\n"
      ],
      "execution_count": 42,
      "outputs": [
        {
          "output_type": "display_data",
          "data": {
            "image/png": "[encoded data removed]",
            "text/plain": [
              "<Figure size 720x720 with 1 Axes>"
            ]
          },
          "metadata": {}
        }
      ]
    },
    {
      "cell_type": "code",
      "metadata": {
        "execution": {
          "iopub.status.busy": "2021-11-02T16:34:59.897839Z",
          "iopub.execute_input": "2021-11-02T16:34:59.898333Z",
          "iopub.status.idle": "2021-11-02T16:35:17.522351Z",
          "shell.execute_reply.started": "2021-11-02T16:34:59.898285Z",
          "shell.execute_reply": "2021-11-02T16:35:17.521599Z"
        },
        "trusted": true,
        "id": "A2i1_sDQvcY3"
      },
      "source": [
        "y_pred = model.predict([X_word_te,\n",
        "                        np.array(X_char_te).reshape((len(X_char_te),\n",
        "                                                     max_len, max_len_char))])"
      ],
      "execution_count": 38,
      "outputs": []
    },
    {
      "cell_type": "code",
      "metadata": {
        "execution": {
          "iopub.status.busy": "2021-11-02T16:35:17.525845Z",
          "iopub.execute_input": "2021-11-02T16:35:17.526068Z",
          "iopub.status.idle": "2021-11-02T16:35:19.773592Z",
          "shell.execute_reply.started": "2021-11-02T16:35:17.526023Z",
          "shell.execute_reply": "2021-11-02T16:35:19.772842Z"
        },
        "trusted": true,
        "id": "_p2loRdLvcY4"
      },
      "source": [
        "def label(pred):\n",
        "    out = []\n",
        "    for pred_i in pred:\n",
        "        out_i = []\n",
        "        for p in pred_i:\n",
        "            p_i = np.argmax(p)\n",
        "            out_i.append(idx2tag[p_i].replace(\"PAD\", \"O\"))\n",
        "        out.append(out_i)\n",
        "    return out\n",
        "    \n",
        "pred_labels = label(y_pred)\n",
        "test_labels = label(y_te)"
      ],
      "execution_count": 39,
      "outputs": []
    },
    {
      "cell_type": "code",
      "metadata": {
        "execution": {
          "iopub.status.busy": "2021-11-02T16:37:35.603336Z",
          "iopub.execute_input": "2021-11-02T16:37:35.603651Z",
          "iopub.status.idle": "2021-11-02T16:37:35.945195Z",
          "shell.execute_reply.started": "2021-11-02T16:37:35.603595Z",
          "shell.execute_reply": "2021-11-02T16:37:35.944510Z"
        },
        "trusted": true,
        "colab": {
          "base_uri": "https://localhost:8080/",
          "height": 592
        },
        "id": "Cg2JpfVwvcY4",
        "outputId": "f1a4b890-9326-47a4-f2ad-5e45c23c552c"
      },
      "source": [
        "hist = pd.DataFrame(history.history)\n",
        "\n",
        "plt.style.use(\"ggplot\")\n",
        "plt.figure(figsize=(10,10))\n",
        "plt.plot(hist[\"loss\"])\n",
        "plt.plot(hist[\"val_loss\"])\n",
        "plt.legend(['loss','val_loss'])\n",
        "plt.show()"
      ],
      "execution_count": 43,
      "outputs": [
        {
          "output_type": "display_data",
          "data": {
            "image/png": "[encoded data removed]",
            "text/plain": [
              "<Figure size 720x720 with 1 Axes>"
            ]
          },
          "metadata": {}
        }
      ]
    },
    {
      "cell_type": "code",
      "metadata": {
        "execution": {
          "iopub.status.busy": "2021-11-02T16:37:42.926459Z",
          "iopub.execute_input": "2021-11-02T16:37:42.926789Z",
          "iopub.status.idle": "2021-11-02T16:37:44.518928Z",
          "shell.execute_reply.started": "2021-11-02T16:37:42.926737Z",
          "shell.execute_reply": "2021-11-02T16:37:44.518181Z"
        },
        "trusted": true,
        "colab": {
          "base_uri": "https://localhost:8080/"
        },
        "id": "wlrAUQgWvcY4",
        "outputId": "3710b330-35c8-493f-a2d0-aab2d5c9929f"
      },
      "source": [
        "import sklearn\n",
        "from sklearn.metrics import classification_report, confusion_matrix\n",
        "from sklearn.preprocessing import LabelBinarizer\n",
        "from itertools import chain\n",
        "\n",
        "def ner_report(y_true, y_pred):\n",
        " \n",
        "    lb = LabelBinarizer()\n",
        "    y_true_combined = lb.fit_transform(list(chain.from_iterable(y_true)))\n",
        "    y_pred_combined = lb.transform(list(chain.from_iterable(y_pred)))\n",
        "    tagset = list(sorted(set(lb.classes_)))\n",
        "    tagset = tagset[:-2]\n",
        "    print(tagset)\n",
        "    class_indices = {cls: idx for idx, cls in enumerate(lb.classes_)}\n",
        "    \n",
        "    return classification_report(\n",
        "        y_true_combined,\n",
        "        y_pred_combined,\n",
        "        labels = [class_indices[cls] for cls in tagset],\n",
        "        target_names = tagset,\n",
        "        digits=4\n",
        "    )\n",
        "\n",
        "print(ner_report(test_labels, pred_labels))"
      ],
      "execution_count": 41,
      "outputs": [
        {
          "output_type": "stream",
          "name": "stdout",
          "text": [
            "['B-art', 'B-eve', 'B-geo', 'B-gpe', 'B-nat', 'B-org', 'B-per', 'B-tim', 'I-art', 'I-eve', 'I-geo', 'I-gpe', 'I-nat', 'I-org', 'I-per']\n",
            "              precision    recall  f1-score   support\n",
            "\n",
            "       B-art     0.0000    0.0000    0.0000        49\n",
            "       B-eve     0.0000    0.0000    0.0000        33\n",
            "       B-geo     0.8412    0.9074    0.8730      3735\n",
            "       B-gpe     0.9772    0.9123    0.9436      1596\n",
            "       B-nat     0.0000    0.0000    0.0000        23\n",
            "       B-org     0.7694    0.7088    0.7379      2071\n",
            "       B-per     0.8471    0.8241    0.8354      1694\n",
            "       B-tim     0.9057    0.8193    0.8603      2158\n",
            "       I-art     0.0000    0.0000    0.0000        42\n",
            "       I-eve     0.0000    0.0000    0.0000        33\n",
            "       I-geo     0.7997    0.7963    0.7980       707\n",
            "       I-gpe     1.0000    0.3750    0.5455        16\n",
            "       I-nat     0.0000    0.0000    0.0000         5\n",
            "       I-org     0.7775    0.7984    0.7878      1786\n",
            "       I-per     0.8327    0.9132    0.8711      1739\n",
            "\n",
            "   micro avg     0.8438    0.8325    0.8381     15687\n",
            "   macro avg     0.5167    0.4703    0.4835     15687\n",
            "weighted avg     0.8352    0.8325    0.8326     15687\n",
            " samples avg     0.0363    0.0363    0.0363     15687\n",
            "\n"
          ]
        },
        {
          "output_type": "stream",
          "name": "stderr",
          "text": [
            "/usr/local/lib/python3.7/dist-packages/sklearn/metrics/_classification.py:1272: UndefinedMetricWarning: Precision and F-score are ill-defined and being set to 0.0 in labels with no predicted samples. Use `zero_division` parameter to control this behavior.\n",
            "  _warn_prf(average, modifier, msg_start, len(result))\n",
            "/usr/local/lib/python3.7/dist-packages/sklearn/metrics/_classification.py:1272: UndefinedMetricWarning: Precision and F-score are ill-defined and being set to 0.0 in samples with no predicted labels. Use `zero_division` parameter to control this behavior.\n",
            "  _warn_prf(average, modifier, msg_start, len(result))\n",
            "/usr/local/lib/python3.7/dist-packages/sklearn/metrics/_classification.py:1272: UndefinedMetricWarning: Recall and F-score are ill-defined and being set to 0.0 in samples with no true labels. Use `zero_division` parameter to control this behavior.\n",
            "  _warn_prf(average, modifier, msg_start, len(result))\n"
          ]
        }
      ]
    },
    {
      "cell_type": "code",
      "metadata": {
        "id": "VvXldYXyvcY4"
      },
      "source": [
        ""
      ],
      "execution_count": null,
      "outputs": []
    }
  ]
}